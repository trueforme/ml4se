{
  "nbformat": 4,
  "nbformat_minor": 0,
  "metadata": {
    "colab": {
      "provenance": [],
      "authorship_tag": "ABX9TyNpI957m+bL9PaZIqH2bgsM",
      "include_colab_link": true
    },
    "kernelspec": {
      "name": "python3",
      "display_name": "Python 3"
    },
    "language_info": {
      "name": "python"
    }
  },
  "cells": [
    {
      "cell_type": "markdown",
      "metadata": {
        "id": "view-in-github",
        "colab_type": "text"
      },
      "source": [
        "<a href=\"https://colab.research.google.com/github/trueforme/ml4se/blob/main/ml4se/lecture1/hw1_ml4se_Sharavyev.ipynb\" target=\"_parent\"><img src=\"https://colab.research.google.com/assets/colab-badge.svg\" alt=\"Open In Colab\"/></a>"
      ]
    },
    {
      "cell_type": "markdown",
      "source": [
        "Модель - GPT5 Thinking, с подпиской PLUS; Не уверен, что было честно использовать эту модель, так как считаю ее довольно мощной, но в правилах ограничения на модель не было."
      ],
      "metadata": {
        "id": "3dQywMu_1XhQ"
      }
    },
    {
      "cell_type": "markdown",
      "source": [
        "PROMPT: Задание:\n",
        "Сгенерируй простую программу на python, реализующую dfs, в файле не должно быть if __name__. Сгенерированный код должен содержать tabs ( \\t ) в виде отступов для строк кода, вместо пробелов. Должен содержать лишние \\n ( назовем это \"шумом\"). Затем этот файл нужно перевести в .txt формат, где будут видны все whitespaces символы. Затем следующее подзадание:\n",
        "Нужно обработать этот  текстовый файл. ИЗМЕНИ ТОЛЬКО ТАК, как я попрошу, и НИКАК ИНАЧЕ:\n",
        "1. Нужно убрать ВСЕ комментарии\n",
        "2. ТАБЫ ( tabs ) заменить соответствующим им ПРОБЕЛАМ для таких же отступов\n",
        "3. ВСЕ НЕЗНАЧАЩИЕ пробельные символы ( whitespaces) убрать\n",
        "4. ВСЕ названия ПЕРЕМЕННЫХ, ФУНКЦИЙ, КЛАССОВ заменить на name_{old_name} В конце проверь, что ты сделал как требуется, и не добавил ничего лишнего\n",
        "\n",
        "В итоге должно получиться 4 файла:\n",
        "1) raw.py, с \\t, лишними \\n, как я описал\n",
        "2) raw.txt, переведенный raw.py в txt формат\n",
        "3) clean.txt, очищенный по правилам подзадания raw.txt\n",
        "4) clean.py, переведенный clean.txt в питоновский файл, сохраняющий полную работоспособность в точности как в raw.py\n"
      ],
      "metadata": {
        "id": "WjLWcVDO1WaJ"
      }
    },
    {
      "cell_type": "markdown",
      "source": [
        "# Simple DFS implementation (with tabs and noise)\\n\n",
        "\\n\n",
        "def dfs(graph, start, visited=None):\\n\n",
        "\\n\n",
        "\\tif visited is None:\\n\n",
        "\\n\n",
        "\\t\\tvisited = set()\\n\n",
        "\\n\n",
        "\\t# mark visited\\n\n",
        "\\n\n",
        "\\tvisited.add(start)\\n\n",
        "\\n\n",
        "\\tfor neighbor in graph.get(start, []):\\n\n",
        "\\n\n",
        "\\t\\tif neighbor not in visited:\\n\n",
        "\\n\n",
        "\\t\\t\\tdfs(graph, neighbor, visited)\\n\n",
        "\\n\n",
        "\\treturn visited\\n\n",
        "\\n\n",
        "# sample graph\\n\n",
        "\\n\n",
        "graph = {\\n\n",
        "\\n\n",
        "\\t'A': ['B', 'C'],\\n\n",
        "\\n\n",
        "\\t'B': ['D'],\\n\n",
        "\\n\n",
        "\\t'C': ['E'],\\n\n",
        "\\n\n",
        "\\t'D': [],\\n\n",
        "\\n\n",
        "\\t'E': []\\n\n",
        "\\n\n",
        "}\\n\n",
        "\\n\n",
        "start = 'A'\\n\n",
        "\\n\n",
        "result = dfs(graph, start)\\n\n",
        "\\n\n",
        "print(sorted(result))\\n\n",
        "\\n"
      ],
      "metadata": {
        "id": "tBkxH43b2b2D"
      }
    },
    {
      "cell_type": "markdown",
      "source": [],
      "metadata": {
        "id": "QSFYDvRY2fbS"
      }
    }
  ]
}