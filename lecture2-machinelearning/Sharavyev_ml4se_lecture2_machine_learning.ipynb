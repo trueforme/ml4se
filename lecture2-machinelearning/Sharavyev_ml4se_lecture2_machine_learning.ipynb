{
  "nbformat": 4,
  "nbformat_minor": 0,
  "metadata": {
    "colab": {
      "provenance": [],
      "authorship_tag": "ABX9TyPkA99niXeNQ4j3WOMO++Zm",
      "include_colab_link": true
    },
    "kernelspec": {
      "name": "python3",
      "display_name": "Python 3"
    },
    "language_info": {
      "name": "python"
    }
  },
  "cells": [
    {
      "cell_type": "markdown",
      "metadata": {
        "id": "view-in-github",
        "colab_type": "text"
      },
      "source": [
        "<a href=\"https://colab.research.google.com/github/trueforme/ml4se/blob/lecture2-machine-learning/lecture2/Sharavyev_ml4se_lecture2_machine_learning.ipynb\" target=\"_parent\"><img src=\"https://colab.research.google.com/assets/colab-badge.svg\" alt=\"Open In Colab\"/></a>"
      ]
    },
    {
      "cell_type": "markdown",
      "source": [
        "Сам класс с функцией танХенса\n"
      ],
      "metadata": {
        "id": "IgGK31fY01Zk"
      }
    },
    {
      "cell_type": "code",
      "execution_count": 36,
      "metadata": {
        "id": "tenaYM-gKVf0"
      },
      "outputs": [],
      "source": [
        "import math\n",
        "\n",
        "class Value:\n",
        "    \"\"\" stores a single scalar value and its gradient \"\"\"\n",
        "\n",
        "    def __init__(self, data, _children=(), _op=''):\n",
        "        self.data = data\n",
        "        self.grad = 0\n",
        "        # internal variables used for autograd graph construction\n",
        "        self._backward = lambda: None\n",
        "        self._prev = set(_children)\n",
        "        self._op = _op # the op that produced this node, for graphviz / debugging / etc\n",
        "\n",
        "    def __add__(self, other):\n",
        "        other = other if isinstance(other, Value) else Value(other)\n",
        "        out = Value(self.data + other.data, (self, other), '+')\n",
        "\n",
        "        def _backward():\n",
        "            self.grad += out.grad\n",
        "            other.grad += out.grad\n",
        "        out._backward = _backward\n",
        "\n",
        "        return out\n",
        "\n",
        "    def __mul__(self, other):\n",
        "        other = other if isinstance(other, Value) else Value(other)\n",
        "        out = Value(self.data * other.data, (self, other), '*')\n",
        "\n",
        "        def _backward():\n",
        "            self.grad += other.data * out.grad\n",
        "            other.grad += self.data * out.grad\n",
        "        out._backward = _backward\n",
        "\n",
        "        return out\n",
        "\n",
        "    def __pow__(self, other):\n",
        "        assert isinstance(other, (int, float)), \"only supporting int/float powers for now\"\n",
        "        out = Value(self.data**other, (self,), f'**{other}')\n",
        "\n",
        "        def _backward():\n",
        "            self.grad += (other * self.data**(other-1)) * out.grad\n",
        "        out._backward = _backward\n",
        "\n",
        "        return out\n",
        "\n",
        "    def relu(self):\n",
        "        out = Value(0 if self.data < 0 else self.data, (self,), 'ReLU')\n",
        "\n",
        "        def _backward():\n",
        "            self.grad += (out.data > 0) * out.grad\n",
        "        out._backward = _backward\n",
        "\n",
        "        return out\n",
        "\n",
        "    def backward(self):\n",
        "\n",
        "        # topological order all of the children in the graph\n",
        "        topo = []\n",
        "        visited = set()\n",
        "        def build_topo(v):\n",
        "            if v not in visited:\n",
        "                visited.add(v)\n",
        "                for child in v._prev:\n",
        "                    build_topo(child)\n",
        "                topo.append(v)\n",
        "        build_topo(self)\n",
        "\n",
        "        # go one variable at a time and apply the chain rule to get its gradient\n",
        "        self.grad = 1\n",
        "        for v in reversed(topo):\n",
        "            v._backward()\n",
        "\n",
        "\n",
        "    # гиперболический тангенс..\n",
        "    def tanh(self):\n",
        "      out = Value(math.tanh(self.data), (self,), \"math.tanh\")\n",
        "\n",
        "      def _backward():\n",
        "        self.grad += (1 - math.tanh(self.data)**2) * out.grad\n",
        "      out._backward = _backward\n",
        "      return out\n",
        "\n",
        "    def __neg__(self): # -self\n",
        "        return self * -1\n",
        "\n",
        "    def __radd__(self, other): # other + self\n",
        "        return self + other\n",
        "\n",
        "    def __sub__(self, other): # self - other\n",
        "        return self + (-other)\n",
        "\n",
        "    def __rsub__(self, other): # other - self\n",
        "        return other + (-self)\n",
        "\n",
        "    def __rmul__(self, other): # other * self\n",
        "        return self * other\n",
        "\n",
        "    def __truediv__(self, other): # self / other\n",
        "        return self * other**-1\n",
        "\n",
        "    def __rtruediv__(self, other): # other / self\n",
        "        return other * self**-1\n",
        "\n",
        "    def __repr__(self):\n",
        "        return f\"Value(data={self.data}, grad={self.grad})\""
      ]
    },
    {
      "cell_type": "code",
      "source": [
        "from graphviz import Digraph\n",
        "import math"
      ],
      "metadata": {
        "id": "fRSeFEeOPFfk"
      },
      "execution_count": 15,
      "outputs": []
    },
    {
      "cell_type": "code",
      "source": [
        "# utilities\n",
        "\n",
        "def trace(root):\n",
        "    nodes, edges = set(), set()\n",
        "    def build(v):\n",
        "        if v not in nodes:\n",
        "            nodes.add(v)\n",
        "            for child in v._prev:\n",
        "                edges.add((child, v))\n",
        "                build(child)\n",
        "    build(root)\n",
        "    return nodes, edges\n",
        "\n",
        "def draw_dot(root, format='svg', rankdir='LR'):\n",
        "    \"\"\"\n",
        "    format: png | svg | ...\n",
        "    rankdir: TB (top to bottom graph) | LR (left to right)\n",
        "    \"\"\"\n",
        "    assert rankdir in ['LR', 'TB']\n",
        "    nodes, edges = trace(root)\n",
        "    dot = Digraph(format=format, graph_attr={'rankdir': rankdir}) #, node_attr={'rankdir': 'TB'})\n",
        "\n",
        "    for n in nodes:\n",
        "        dot.node(name=str(id(n)), label = \"{data %.2f | grad %.2f}\" % (n.data, n.grad), shape='record')\n",
        "        if n._op:\n",
        "            dot.node(name=str(id(n)) + n._op, label=n._op)\n",
        "            dot.edge(str(id(n)) + n._op, str(id(n)))\n",
        "\n",
        "    for n1, n2 in edges:\n",
        "        dot.edge(str(id(n1)), str(id(n2)) + n2._op)\n",
        "\n",
        "    return dot"
      ],
      "metadata": {
        "id": "PIS20EWoPHkb"
      },
      "execution_count": 11,
      "outputs": []
    },
    {
      "cell_type": "markdown",
      "source": [
        "что-то даже похожее на реальность:"
      ],
      "metadata": {
        "id": "tK8uXXbc1EUC"
      }
    },
    {
      "cell_type": "code",
      "source": [
        "x = Value(1.0); x.label = 'x'\n",
        "#y = (x * 2 + 1).relu()\n",
        "y = x * 2 + 1\n",
        "z = y.tanh()\n",
        "w = z.tanh()\n",
        "w.backward()\n",
        "draw_dot(w)"
      ],
      "metadata": {
        "colab": {
          "base_uri": "https://localhost:8080/",
          "height": 191
        },
        "id": "FQqb6HTZviKs",
        "outputId": "08e01711-ea62-4065-b5a3-168539a23e8b"
      },
      "execution_count": 61,
      "outputs": [
        {
          "output_type": "execute_result",
          "data": {
            "image/svg+xml": "<?xml version=\"1.0\" encoding=\"UTF-8\" standalone=\"no\"?>\n<!DOCTYPE svg PUBLIC \"-//W3C//DTD SVG 1.1//EN\"\n \"http://www.w3.org/Graphics/SVG/1.1/DTD/svg11.dtd\">\n<!-- Generated by graphviz version 2.43.0 (0)\n -->\n<!-- Title: %3 Pages: 1 -->\n<svg width=\"1264pt\" height=\"127pt\"\n viewBox=\"0.00 0.00 1263.58 127.00\" xmlns=\"http://www.w3.org/2000/svg\" xmlns:xlink=\"http://www.w3.org/1999/xlink\">\n<g id=\"graph0\" class=\"graph\" transform=\"scale(1 1) rotate(0) translate(4 123)\">\n<title>%3</title>\n<polygon fill=\"white\" stroke=\"transparent\" points=\"-4,4 -4,-123 1259.58,-123 1259.58,4 -4,4\"/>\n<!-- 134357653142128 -->\n<g id=\"node1\" class=\"node\">\n<title>134357653142128</title>\n<polygon fill=\"none\" stroke=\"black\" points=\"522,-54.5 522,-90.5 657,-90.5 657,-54.5 522,-54.5\"/>\n<text text-anchor=\"middle\" x=\"555.5\" y=\"-68.8\" font-family=\"Times,serif\" font-size=\"14.00\">data 3.00</text>\n<polyline fill=\"none\" stroke=\"black\" points=\"589,-54.5 589,-90.5 \"/>\n<text text-anchor=\"middle\" x=\"623\" y=\"-68.8\" font-family=\"Times,serif\" font-size=\"14.00\">grad 0.00</text>\n</g>\n<!-- 134357653137856math.tanh -->\n<g id=\"node9\" class=\"node\">\n<title>134357653137856math.tanh</title>\n<ellipse fill=\"none\" stroke=\"black\" cx=\"739.15\" cy=\"-72.5\" rx=\"46.29\" ry=\"18\"/>\n<text text-anchor=\"middle\" x=\"739.15\" y=\"-68.8\" font-family=\"Times,serif\" font-size=\"14.00\">math.tanh</text>\n</g>\n<!-- 134357653142128&#45;&gt;134357653137856math.tanh -->\n<g id=\"edge10\" class=\"edge\">\n<title>134357653142128&#45;&gt;134357653137856math.tanh</title>\n<path fill=\"none\" stroke=\"black\" d=\"M657.41,-72.5C665.78,-72.5 674.27,-72.5 682.44,-72.5\"/>\n<polygon fill=\"black\" stroke=\"black\" points=\"682.59,-76 692.59,-72.5 682.59,-69 682.59,-76\"/>\n</g>\n<!-- 134357653142128+ -->\n<g id=\"node2\" class=\"node\">\n<title>134357653142128+</title>\n<ellipse fill=\"none\" stroke=\"black\" cx=\"459\" cy=\"-72.5\" rx=\"27\" ry=\"18\"/>\n<text text-anchor=\"middle\" x=\"459\" y=\"-68.8\" font-family=\"Times,serif\" font-size=\"14.00\">+</text>\n</g>\n<!-- 134357653142128+&#45;&gt;134357653142128 -->\n<g id=\"edge1\" class=\"edge\">\n<title>134357653142128+&#45;&gt;134357653142128</title>\n<path fill=\"none\" stroke=\"black\" d=\"M486,-72.5C493.71,-72.5 502.56,-72.5 511.77,-72.5\"/>\n<polygon fill=\"black\" stroke=\"black\" points=\"511.87,-76 521.87,-72.5 511.87,-69 511.87,-76\"/>\n</g>\n<!-- 134357653127920 -->\n<g id=\"node3\" class=\"node\">\n<title>134357653127920</title>\n<polygon fill=\"none\" stroke=\"black\" points=\"1120.58,-54.5 1120.58,-90.5 1255.58,-90.5 1255.58,-54.5 1120.58,-54.5\"/>\n<text text-anchor=\"middle\" x=\"1154.08\" y=\"-68.8\" font-family=\"Times,serif\" font-size=\"14.00\">data 0.76</text>\n<polyline fill=\"none\" stroke=\"black\" points=\"1187.58,-54.5 1187.58,-90.5 \"/>\n<text text-anchor=\"middle\" x=\"1221.58\" y=\"-68.8\" font-family=\"Times,serif\" font-size=\"14.00\">grad 1.00</text>\n</g>\n<!-- 134357653127920math.tanh -->\n<g id=\"node4\" class=\"node\">\n<title>134357653127920math.tanh</title>\n<ellipse fill=\"none\" stroke=\"black\" cx=\"1038.44\" cy=\"-72.5\" rx=\"46.29\" ry=\"18\"/>\n<text text-anchor=\"middle\" x=\"1038.44\" y=\"-68.8\" font-family=\"Times,serif\" font-size=\"14.00\">math.tanh</text>\n</g>\n<!-- 134357653127920math.tanh&#45;&gt;134357653127920 -->\n<g id=\"edge2\" class=\"edge\">\n<title>134357653127920math.tanh&#45;&gt;134357653127920</title>\n<path fill=\"none\" stroke=\"black\" d=\"M1084.94,-72.5C1093.04,-72.5 1101.68,-72.5 1110.37,-72.5\"/>\n<polygon fill=\"black\" stroke=\"black\" points=\"1110.56,-76 1120.56,-72.5 1110.56,-69 1110.56,-76\"/>\n</g>\n<!-- 134357653127488 -->\n<g id=\"node5\" class=\"node\">\n<title>134357653127488</title>\n<polygon fill=\"none\" stroke=\"black\" points=\"0,-55.5 0,-91.5 135,-91.5 135,-55.5 0,-55.5\"/>\n<text text-anchor=\"middle\" x=\"33.5\" y=\"-69.8\" font-family=\"Times,serif\" font-size=\"14.00\">data 1.00</text>\n<polyline fill=\"none\" stroke=\"black\" points=\"67,-55.5 67,-91.5 \"/>\n<text text-anchor=\"middle\" x=\"101\" y=\"-69.8\" font-family=\"Times,serif\" font-size=\"14.00\">grad 0.01</text>\n</g>\n<!-- 134357653138912* -->\n<g id=\"node11\" class=\"node\">\n<title>134357653138912*</title>\n<ellipse fill=\"none\" stroke=\"black\" cx=\"198\" cy=\"-45.5\" rx=\"27\" ry=\"18\"/>\n<text text-anchor=\"middle\" x=\"198\" y=\"-41.8\" font-family=\"Times,serif\" font-size=\"14.00\">*</text>\n</g>\n<!-- 134357653127488&#45;&gt;134357653138912* -->\n<g id=\"edge9\" class=\"edge\">\n<title>134357653127488&#45;&gt;134357653138912*</title>\n<path fill=\"none\" stroke=\"black\" d=\"M135.01,-59.01C144.41,-56.96 153.75,-54.92 162.22,-53.08\"/>\n<polygon fill=\"black\" stroke=\"black\" points=\"163.04,-56.48 172.06,-50.93 161.55,-49.64 163.04,-56.48\"/>\n</g>\n<!-- 134357653128160 -->\n<g id=\"node6\" class=\"node\">\n<title>134357653128160</title>\n<polygon fill=\"none\" stroke=\"black\" points=\"261,-82.5 261,-118.5 396,-118.5 396,-82.5 261,-82.5\"/>\n<text text-anchor=\"middle\" x=\"294.5\" y=\"-96.8\" font-family=\"Times,serif\" font-size=\"14.00\">data 1.00</text>\n<polyline fill=\"none\" stroke=\"black\" points=\"328,-82.5 328,-118.5 \"/>\n<text text-anchor=\"middle\" x=\"362\" y=\"-96.8\" font-family=\"Times,serif\" font-size=\"14.00\">grad 0.00</text>\n</g>\n<!-- 134357653128160&#45;&gt;134357653142128+ -->\n<g id=\"edge6\" class=\"edge\">\n<title>134357653128160&#45;&gt;134357653142128+</title>\n<path fill=\"none\" stroke=\"black\" d=\"M396.01,-86.01C405.41,-83.96 414.75,-81.92 423.22,-80.08\"/>\n<polygon fill=\"black\" stroke=\"black\" points=\"424.04,-83.48 433.06,-77.93 422.55,-76.64 424.04,-83.48\"/>\n</g>\n<!-- 134357653142416 -->\n<g id=\"node7\" class=\"node\">\n<title>134357653142416</title>\n<polygon fill=\"none\" stroke=\"black\" points=\"0,-0.5 0,-36.5 135,-36.5 135,-0.5 0,-0.5\"/>\n<text text-anchor=\"middle\" x=\"33.5\" y=\"-14.8\" font-family=\"Times,serif\" font-size=\"14.00\">data 2.00</text>\n<polyline fill=\"none\" stroke=\"black\" points=\"67,-0.5 67,-36.5 \"/>\n<text text-anchor=\"middle\" x=\"101\" y=\"-14.8\" font-family=\"Times,serif\" font-size=\"14.00\">grad 0.00</text>\n</g>\n<!-- 134357653142416&#45;&gt;134357653138912* -->\n<g id=\"edge8\" class=\"edge\">\n<title>134357653142416&#45;&gt;134357653138912*</title>\n<path fill=\"none\" stroke=\"black\" d=\"M135.01,-32.47C144.41,-34.45 153.75,-36.41 162.22,-38.19\"/>\n<polygon fill=\"black\" stroke=\"black\" points=\"161.56,-41.63 172.06,-40.26 163,-34.78 161.56,-41.63\"/>\n</g>\n<!-- 134357653137856 -->\n<g id=\"node8\" class=\"node\">\n<title>134357653137856</title>\n<polygon fill=\"none\" stroke=\"black\" points=\"821.29,-54.5 821.29,-90.5 956.29,-90.5 956.29,-54.5 821.29,-54.5\"/>\n<text text-anchor=\"middle\" x=\"854.79\" y=\"-68.8\" font-family=\"Times,serif\" font-size=\"14.00\">data 1.00</text>\n<polyline fill=\"none\" stroke=\"black\" points=\"888.29,-54.5 888.29,-90.5 \"/>\n<text text-anchor=\"middle\" x=\"922.29\" y=\"-68.8\" font-family=\"Times,serif\" font-size=\"14.00\">grad 0.42</text>\n</g>\n<!-- 134357653137856&#45;&gt;134357653127920math.tanh -->\n<g id=\"edge7\" class=\"edge\">\n<title>134357653137856&#45;&gt;134357653127920math.tanh</title>\n<path fill=\"none\" stroke=\"black\" d=\"M956.7,-72.5C965.07,-72.5 973.56,-72.5 981.73,-72.5\"/>\n<polygon fill=\"black\" stroke=\"black\" points=\"981.88,-76 991.88,-72.5 981.88,-69 981.88,-76\"/>\n</g>\n<!-- 134357653137856math.tanh&#45;&gt;134357653137856 -->\n<g id=\"edge3\" class=\"edge\">\n<title>134357653137856math.tanh&#45;&gt;134357653137856</title>\n<path fill=\"none\" stroke=\"black\" d=\"M785.65,-72.5C793.75,-72.5 802.38,-72.5 811.07,-72.5\"/>\n<polygon fill=\"black\" stroke=\"black\" points=\"811.27,-76 821.27,-72.5 811.27,-69 811.27,-76\"/>\n</g>\n<!-- 134357653138912 -->\n<g id=\"node10\" class=\"node\">\n<title>134357653138912</title>\n<polygon fill=\"none\" stroke=\"black\" points=\"261,-27.5 261,-63.5 396,-63.5 396,-27.5 261,-27.5\"/>\n<text text-anchor=\"middle\" x=\"294.5\" y=\"-41.8\" font-family=\"Times,serif\" font-size=\"14.00\">data 2.00</text>\n<polyline fill=\"none\" stroke=\"black\" points=\"328,-27.5 328,-63.5 \"/>\n<text text-anchor=\"middle\" x=\"362\" y=\"-41.8\" font-family=\"Times,serif\" font-size=\"14.00\">grad 0.00</text>\n</g>\n<!-- 134357653138912&#45;&gt;134357653142128+ -->\n<g id=\"edge5\" class=\"edge\">\n<title>134357653138912&#45;&gt;134357653142128+</title>\n<path fill=\"none\" stroke=\"black\" d=\"M396.01,-59.47C405.41,-61.45 414.75,-63.41 423.22,-65.19\"/>\n<polygon fill=\"black\" stroke=\"black\" points=\"422.56,-68.63 433.06,-67.26 424,-61.78 422.56,-68.63\"/>\n</g>\n<!-- 134357653138912*&#45;&gt;134357653138912 -->\n<g id=\"edge4\" class=\"edge\">\n<title>134357653138912*&#45;&gt;134357653138912</title>\n<path fill=\"none\" stroke=\"black\" d=\"M225,-45.5C232.71,-45.5 241.56,-45.5 250.77,-45.5\"/>\n<polygon fill=\"black\" stroke=\"black\" points=\"250.87,-49 260.87,-45.5 250.87,-42 250.87,-49\"/>\n</g>\n</g>\n</svg>\n",
            "text/plain": [
              "<graphviz.graphs.Digraph at 0x7a32a8fff770>"
            ]
          },
          "metadata": {},
          "execution_count": 61
        }
      ]
    }
  ]
}